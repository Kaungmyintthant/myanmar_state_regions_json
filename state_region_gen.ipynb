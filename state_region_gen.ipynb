{
 "cells": [
  {
   "cell_type": "code",
   "execution_count": 1,
   "metadata": {
    "collapsed": true
   },
   "outputs": [],
   "source": [
    "%matplotlib inline"
   ]
  },
  {
   "cell_type": "code",
   "execution_count": 2,
   "metadata": {
    "collapsed": true
   },
   "outputs": [],
   "source": [
    "import pandas as pd"
   ]
  },
  {
   "cell_type": "code",
   "execution_count": 3,
   "metadata": {
    "collapsed": false
   },
   "outputs": [],
   "source": [
    "df = pd.read_excel(\"MIMU_STATEREGION.xlsx\",sheetname=2)"
   ]
  },
  {
   "cell_type": "code",
   "execution_count": 4,
   "metadata": {
    "collapsed": false
   },
   "outputs": [
    {
     "data": {
      "text/html": [
       "<div>\n",
       "<table border=\"1\" class=\"dataframe\">\n",
       "  <thead>\n",
       "    <tr style=\"text-align: right;\">\n",
       "      <th></th>\n",
       "      <th>SR_Pcode</th>\n",
       "      <th>State_Region</th>\n",
       "      <th>D_Pcode</th>\n",
       "      <th>District</th>\n",
       "      <th>TS_Pcode</th>\n",
       "      <th>Township</th>\n",
       "      <th>Township_Mya_MM3</th>\n",
       "      <th>MYAINFO_TS_ID</th>\n",
       "      <th>Source</th>\n",
       "      <th>Remark</th>\n",
       "    </tr>\n",
       "  </thead>\n",
       "  <tbody>\n",
       "    <tr>\n",
       "      <th>346</th>\n",
       "      <td>MMR017</td>\n",
       "      <td>Ayeyarwady</td>\n",
       "      <td>MMR017D006</td>\n",
       "      <td>Pyapon</td>\n",
       "      <td>MMR017025</td>\n",
       "      <td>Kyaiklat</td>\n",
       "      <td>ကျိုက်လတ်</td>\n",
       "      <td>ASIMMR017025</td>\n",
       "      <td>GAD, Mar 2015</td>\n",
       "      <td>NaN</td>\n",
       "    </tr>\n",
       "    <tr>\n",
       "      <th>347</th>\n",
       "      <td>MMR017</td>\n",
       "      <td>Ayeyarwady</td>\n",
       "      <td>MMR017D006</td>\n",
       "      <td>Pyapon</td>\n",
       "      <td>MMR017026</td>\n",
       "      <td>Dedaye</td>\n",
       "      <td>ဒေးဒရဲ</td>\n",
       "      <td>ASIMMR017026</td>\n",
       "      <td>GAD, Mar 2015</td>\n",
       "      <td>NaN</td>\n",
       "    </tr>\n",
       "    <tr>\n",
       "      <th>348</th>\n",
       "      <td>MMR018</td>\n",
       "      <td>Nay Pyi Taw</td>\n",
       "      <td>MMR018D001</td>\n",
       "      <td>Oke Ta Ra</td>\n",
       "      <td>MMR018001</td>\n",
       "      <td>Zay Yar Thi Ri</td>\n",
       "      <td>ဇေယျာသီရိ</td>\n",
       "      <td>ASIMMR010033</td>\n",
       "      <td>GAD, Mar 2015</td>\n",
       "      <td>NaN</td>\n",
       "    </tr>\n",
       "    <tr>\n",
       "      <th>349</th>\n",
       "      <td>MMR018</td>\n",
       "      <td>Nay Pyi Taw</td>\n",
       "      <td>MMR018D002</td>\n",
       "      <td>Det Khi Na</td>\n",
       "      <td>MMR018002</td>\n",
       "      <td>Za Bu Thi Ri</td>\n",
       "      <td>ဇမ္ဗူသီရိ</td>\n",
       "      <td>ASIMMR010036</td>\n",
       "      <td>GAD, Mar 2015</td>\n",
       "      <td>NaN</td>\n",
       "    </tr>\n",
       "    <tr>\n",
       "      <th>350</th>\n",
       "      <td>MMR018</td>\n",
       "      <td>Nay Pyi Taw</td>\n",
       "      <td>MMR018D001</td>\n",
       "      <td>Oke Ta Ra</td>\n",
       "      <td>MMR018003</td>\n",
       "      <td>Tatkon</td>\n",
       "      <td>တပ်ကုန်း</td>\n",
       "      <td>ASIMMR010025</td>\n",
       "      <td>GAD, Mar 2015</td>\n",
       "      <td>NaN</td>\n",
       "    </tr>\n",
       "    <tr>\n",
       "      <th>351</th>\n",
       "      <td>MMR018</td>\n",
       "      <td>Nay Pyi Taw</td>\n",
       "      <td>MMR018D002</td>\n",
       "      <td>Det Khi Na</td>\n",
       "      <td>MMR018004</td>\n",
       "      <td>Det Khi Na Thi Ri</td>\n",
       "      <td>ဒက္ခိဏသီရိ</td>\n",
       "      <td>ASIMMR010037</td>\n",
       "      <td>GAD, Mar 2015</td>\n",
       "      <td>NaN</td>\n",
       "    </tr>\n",
       "    <tr>\n",
       "      <th>352</th>\n",
       "      <td>MMR018</td>\n",
       "      <td>Nay Pyi Taw</td>\n",
       "      <td>MMR018D001</td>\n",
       "      <td>Oke Ta Ra</td>\n",
       "      <td>MMR018005</td>\n",
       "      <td>Poke Ba Thi Ri</td>\n",
       "      <td>ပုဗ္ဗသီရိ</td>\n",
       "      <td>ASIMMR010034</td>\n",
       "      <td>GAD, Mar 2015</td>\n",
       "      <td>NaN</td>\n",
       "    </tr>\n",
       "    <tr>\n",
       "      <th>353</th>\n",
       "      <td>MMR018</td>\n",
       "      <td>Nay Pyi Taw</td>\n",
       "      <td>MMR018D002</td>\n",
       "      <td>Det Khi Na</td>\n",
       "      <td>MMR018006</td>\n",
       "      <td>Pyinmana</td>\n",
       "      <td>ပျဉ်းမနား</td>\n",
       "      <td>ASIMMR010026</td>\n",
       "      <td>GAD, Mar 2015</td>\n",
       "      <td>NaN</td>\n",
       "    </tr>\n",
       "    <tr>\n",
       "      <th>354</th>\n",
       "      <td>MMR018</td>\n",
       "      <td>Nay Pyi Taw</td>\n",
       "      <td>MMR018D002</td>\n",
       "      <td>Det Khi Na</td>\n",
       "      <td>MMR018007</td>\n",
       "      <td>Lewe</td>\n",
       "      <td>လယ်ဝေး</td>\n",
       "      <td>ASIMMR010027</td>\n",
       "      <td>GAD, Mar 2015</td>\n",
       "      <td>NaN</td>\n",
       "    </tr>\n",
       "    <tr>\n",
       "      <th>355</th>\n",
       "      <td>MMR018</td>\n",
       "      <td>Nay Pyi Taw</td>\n",
       "      <td>MMR018D001</td>\n",
       "      <td>Oke Ta Ra</td>\n",
       "      <td>MMR018008</td>\n",
       "      <td>Oke Ta Ra Thi Ri</td>\n",
       "      <td>ဥတ္တရသီရိ</td>\n",
       "      <td>ASIMMR010035</td>\n",
       "      <td>GAD, Mar 2015</td>\n",
       "      <td>NaN</td>\n",
       "    </tr>\n",
       "  </tbody>\n",
       "</table>\n",
       "</div>"
      ],
      "text/plain": [
       "    SR_Pcode State_Region     D_Pcode    District   TS_Pcode  \\\n",
       "346   MMR017   Ayeyarwady  MMR017D006      Pyapon  MMR017025   \n",
       "347   MMR017   Ayeyarwady  MMR017D006      Pyapon  MMR017026   \n",
       "348   MMR018  Nay Pyi Taw  MMR018D001   Oke Ta Ra  MMR018001   \n",
       "349   MMR018  Nay Pyi Taw  MMR018D002  Det Khi Na  MMR018002   \n",
       "350   MMR018  Nay Pyi Taw  MMR018D001   Oke Ta Ra  MMR018003   \n",
       "351   MMR018  Nay Pyi Taw  MMR018D002  Det Khi Na  MMR018004   \n",
       "352   MMR018  Nay Pyi Taw  MMR018D001   Oke Ta Ra  MMR018005   \n",
       "353   MMR018  Nay Pyi Taw  MMR018D002  Det Khi Na  MMR018006   \n",
       "354   MMR018  Nay Pyi Taw  MMR018D002  Det Khi Na  MMR018007   \n",
       "355   MMR018  Nay Pyi Taw  MMR018D001   Oke Ta Ra  MMR018008   \n",
       "\n",
       "               Township Township_Mya_MM3 MYAINFO_TS_ID         Source  Remark  \n",
       "346            Kyaiklat        ကျိုက်လတ်  ASIMMR017025  GAD, Mar 2015     NaN  \n",
       "347              Dedaye           ဒေးဒရဲ  ASIMMR017026  GAD, Mar 2015     NaN  \n",
       "348      Zay Yar Thi Ri        ဇေယျာသီရိ  ASIMMR010033  GAD, Mar 2015     NaN  \n",
       "349        Za Bu Thi Ri        ဇမ္ဗူသီရိ  ASIMMR010036  GAD, Mar 2015     NaN  \n",
       "350              Tatkon         တပ်ကုန်း  ASIMMR010025  GAD, Mar 2015     NaN  \n",
       "351  Det Khi Na Thi Ri        ဒက္ခိဏသီရိ  ASIMMR010037  GAD, Mar 2015     NaN  \n",
       "352      Poke Ba Thi Ri        ပုဗ္ဗသီရိ  ASIMMR010034  GAD, Mar 2015     NaN  \n",
       "353            Pyinmana        ပျဉ်းမနား  ASIMMR010026  GAD, Mar 2015     NaN  \n",
       "354                Lewe           လယ်ဝေး  ASIMMR010027  GAD, Mar 2015     NaN  \n",
       "355   Oke Ta Ra Thi Ri         ဥတ္တရသီရိ  ASIMMR010035  GAD, Mar 2015     NaN  "
      ]
     },
     "execution_count": 4,
     "metadata": {},
     "output_type": "execute_result"
    }
   ],
   "source": [
    "df[-10:]"
   ]
  },
  {
   "cell_type": "code",
   "execution_count": 5,
   "metadata": {
    "collapsed": false
   },
   "outputs": [
    {
     "data": {
      "text/plain": [
       "Index([u'SR_Pcode', u'State_Region', u'D_Pcode', u'District', u'TS_Pcode',\n",
       "       u'Township', u'Township_Mya_MM3', u'MYAINFO_TS_ID', u'Source',\n",
       "       u'Remark'],\n",
       "      dtype='object')"
      ]
     },
     "execution_count": 5,
     "metadata": {},
     "output_type": "execute_result"
    }
   ],
   "source": [
    "df.columns"
   ]
  },
  {
   "cell_type": "code",
   "execution_count": 6,
   "metadata": {
    "collapsed": false
   },
   "outputs": [],
   "source": [
    "state_ship = df.loc[:,['State_Region','Township']]"
   ]
  },
  {
   "cell_type": "code",
   "execution_count": 7,
   "metadata": {
    "collapsed": true
   },
   "outputs": [],
   "source": [
    "grouped = state_ship.groupby(\"State_Region\")"
   ]
  },
  {
   "cell_type": "code",
   "execution_count": 8,
   "metadata": {
    "collapsed": false
   },
   "outputs": [],
   "source": [
    "to_plot = grouped.apply(lambda x : x['Township'].count())"
   ]
  },
  {
   "cell_type": "code",
   "execution_count": 9,
   "metadata": {
    "collapsed": false
   },
   "outputs": [
    {
     "data": {
      "text/plain": [
       "<matplotlib.axes._subplots.AxesSubplot at 0x7fa4437a0fd0>"
      ]
     },
     "execution_count": 9,
     "metadata": {},
     "output_type": "execute_result"
    },
    {
     "data": {
      "image/png": "[encoded data removed]",
      "text/plain": [
       "<matplotlib.figure.Figure at 0x7fa443d52910>"
      ]
     },
     "metadata": {},
     "output_type": "display_data"
    }
   ],
   "source": [
    "to_plot.plot(\"bar\")"
   ]
  },
  {
   "cell_type": "code",
   "execution_count": 10,
   "metadata": {
    "collapsed": true
   },
   "outputs": [],
   "source": [
    "from collections import defaultdict"
   ]
  },
  {
   "cell_type": "code",
   "execution_count": 11,
   "metadata": {
    "collapsed": true
   },
   "outputs": [],
   "source": [
    "result_json = defaultdict(list)"
   ]
  },
  {
   "cell_type": "code",
   "execution_count": 12,
   "metadata": {
    "collapsed": false
   },
   "outputs": [],
   "source": [
    "for name,group in grouped:\n",
    "    result_json[name].append(group)"
   ]
  },
  {
   "cell_type": "code",
   "execution_count": 13,
   "metadata": {
    "collapsed": true
   },
   "outputs": [],
   "source": [
    "stats = grouped.apply(lambda x : x['Township'])"
   ]
  },
  {
   "cell_type": "code",
   "execution_count": 14,
   "metadata": {
    "collapsed": false
   },
   "outputs": [],
   "source": [
    "aya =stats['Ayeyarwady']"
   ]
  },
  {
   "cell_type": "code",
   "execution_count": 15,
   "metadata": {
    "collapsed": false
   },
   "outputs": [
    {
     "data": {
      "text/plain": [
       "pandas.core.series.Series"
      ]
     },
     "execution_count": 15,
     "metadata": {},
     "output_type": "execute_result"
    }
   ],
   "source": [
    "type(stats)"
   ]
  },
  {
   "cell_type": "code",
   "execution_count": 16,
   "metadata": {
    "collapsed": false
   },
   "outputs": [
    {
     "data": {
      "text/plain": [
       "array([u'Pathein', u'Kangyidaunt', u'Thabaung', u'Ngapudaw', u'Kyonpyaw',\n",
       "       u'Yegyi', u'Kyaunggon', u'Hinthada', u'Zalun', u'Lemyethna',\n",
       "       u'Myanaung', u'Kyangin', u'Ingapu', u'Myaungmya', u'Einme',\n",
       "       u'Labutta', u'Wakema', u'Mawlamyinegyun', u'Maubin', u'Pantanaw',\n",
       "       u'Nyaungdon', u'Danubyu', u'Pyapon', u'Bogale', u'Kyaiklat',\n",
       "       u'Dedaye'], dtype=object)"
      ]
     },
     "execution_count": 16,
     "metadata": {},
     "output_type": "execute_result"
    }
   ],
   "source": [
    "stats[u'Ayeyarwady'].values"
   ]
  },
  {
   "cell_type": "code",
   "execution_count": 17,
   "metadata": {
    "collapsed": false
   },
   "outputs": [],
   "source": [
    "x = stats['Ayeyarwady']"
   ]
  },
  {
   "cell_type": "code",
   "execution_count": 18,
   "metadata": {
    "collapsed": true
   },
   "outputs": [],
   "source": [
    "state_region_dict = defaultdict(list)"
   ]
  },
  {
   "cell_type": "code",
   "execution_count": 19,
   "metadata": {
    "collapsed": false
   },
   "outputs": [],
   "source": [
    "for indx in grouped.indices.keys():\n",
    "    state_region_dict[indx] = list(stats[indx].values)"
   ]
  },
  {
   "cell_type": "code",
   "execution_count": 20,
   "metadata": {
    "collapsed": false
   },
   "outputs": [
    {
     "data": {
      "text/plain": [
       "[u'Aungmyaythazan',\n",
       " u'Chanayethazan',\n",
       " u'Mahaaungmyay',\n",
       " u'Chanmyathazi',\n",
       " u'Pyigyitagon',\n",
       " u'Amarapura',\n",
       " u'Patheingyi',\n",
       " u'Pyinoolwin',\n",
       " u'Madaya',\n",
       " u'Singu',\n",
       " u'Mogoke',\n",
       " u'Thabeikkyin',\n",
       " u'Kyaukse',\n",
       " u'Sintgaing',\n",
       " u'Myittha',\n",
       " u'Tada-U',\n",
       " u'Myingyan',\n",
       " u'Taungtha',\n",
       " u'Natogyi',\n",
       " u'Kyaukpadaung',\n",
       " u'Ngazun',\n",
       " u'Nyaung-U',\n",
       " u'Yamethin',\n",
       " u'Pyawbwe',\n",
       " u'Meiktila',\n",
       " u'Mahlaing',\n",
       " u'Thazi',\n",
       " u'Wundwin']"
      ]
     },
     "execution_count": 20,
     "metadata": {},
     "output_type": "execute_result"
    }
   ],
   "source": [
    "state_region_dict['Mandalay']"
   ]
  },
  {
   "cell_type": "code",
   "execution_count": 21,
   "metadata": {
    "collapsed": true
   },
   "outputs": [],
   "source": [
    "import json"
   ]
  },
  {
   "cell_type": "code",
   "execution_count": 22,
   "metadata": {
    "collapsed": false
   },
   "outputs": [],
   "source": [
    "result = json.dumps(state_region_dict)"
   ]
  },
  {
   "cell_type": "code",
   "execution_count": 23,
   "metadata": {
    "collapsed": true
   },
   "outputs": [],
   "source": [
    "f = open(\"state_region.json\",'w')"
   ]
  },
  {
   "cell_type": "code",
   "execution_count": 24,
   "metadata": {
    "collapsed": false
   },
   "outputs": [],
   "source": [
    "f.write(result)"
   ]
  },
  {
   "cell_type": "code",
   "execution_count": null,
   "metadata": {
    "collapsed": true
   },
   "outputs": [],
   "source": []
  }
 ],
 "metadata": {
  "kernelspec": {
   "display_name": "Python 2",
   "language": "python",
   "name": "python2"
  },
  "language_info": {
   "codemirror_mode": {
    "name": "ipython",
    "version": 2
   },
   "file_extension": ".py",
   "mimetype": "text/x-python",
   "name": "python",
   "nbconvert_exporter": "python",
   "pygments_lexer": "ipython2",
   "version": "2.7.12"
  },
  "widgets": {
   "state": {},
   "version": "1.1.2"
  }
 },
 "nbformat": 4,
 "nbformat_minor": 0
}
